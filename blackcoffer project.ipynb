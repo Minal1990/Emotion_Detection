{
 "cells": [
  {
   "cell_type": "code",
   "execution_count": 5,
   "id": "f944d4a8-bf93-4279-9689-8f0287ac441a",
   "metadata": {},
   "outputs": [],
   "source": [
    "import pandas as pd\n",
    "import numpy as np \n",
    "import re \n",
    "import os \n",
    "import pandas as pd\n",
    "from nltk.tokenize import RegexpTokenizer , sent_tokenize\n",
    "from urllib.request import urlopen\n",
    "from bs4 import BeautifulSoup\n",
    "# from fake_useragent import UserAgent\n",
    "import requests\n",
    "import urllib.request,sys,time ,requests"
   ]
  },
  {
   "cell_type": "code",
   "execution_count": 6,
   "id": "e20414df-e537-41db-b191-a869a077b544",
   "metadata": {},
   "outputs": [],
   "source": [
    "input=pd.read_excel(\"Inputs.xlsx\")"
   ]
  },
  {
   "cell_type": "code",
   "execution_count": 7,
   "id": "545cedc7-6cf5-4cfb-8140-c1abfff7e79e",
   "metadata": {},
   "outputs": [
    {
     "data": {
      "text/plain": [
       "['rising it cities and its impact on the economy environment infrastructure and city life by the year 2040 2',\n",
       " 'rising it cities and their impact on the economy environment infrastructure and city life in future',\n",
       " 'internet demands evolution communication impact and 2035s alternative pathways',\n",
       " 'rise of cybercrime and its effect in upcoming future',\n",
       " 'ott platform and its impact on the entertainment industry in future',\n",
       " 'the rise of the ott platform and its impact on the entertainment industry by 2040',\n",
       " 'rise of cyber crime and its effects',\n",
       " 'rise of internet demand and its impact on communications and alternatives by the year 2035 2',\n",
       " 'rise of cybercrime and its effect by the year 2040 2',\n",
       " 'rise of cybercrime and its effect by the year 2040',\n",
       " 'rise of internet demand and its impact on communications and alternatives by the year 2035',\n",
       " 'rise of telemedicine and its impact on livelihood by 2040 3 2',\n",
       " 'rise of e health and its impact on humans by the year 2030',\n",
       " 'rise of e health and its imapct on humans by the year 2030 2',\n",
       " 'rise of telemedicine and its impact on livelihood by 2040 2',\n",
       " 'rise of telemedicine and its impact on livelihood by 2040 2 2',\n",
       " 'rise of chatbots and its impact on customer support by the year 2040',\n",
       " 'rise of e health and its imapct on humans by the year 2030',\n",
       " 'how does marketing influence businesses and consumers',\n",
       " 'how advertisement increase your market value',\n",
       " 'negative effects of marketing on society',\n",
       " 'how advertisement marketing affects business',\n",
       " 'rising it cities will impact the economy environment infrastructure and city life by the year 2035',\n",
       " 'rise of ott platform and its impact on entertainment industry by the year 2030',\n",
       " 'rise of electric vehicles and its impact on livelihood by 2040',\n",
       " 'rise of electric vehicle and its impact on livelihood by the year 2040',\n",
       " 'oil prices by the year 2040 and how it will impact the world economy',\n",
       " 'an outlook of healthcare by the year 2040 and how it will impact human lives',\n",
       " 'ai in healthcare to improve patient outcomes',\n",
       " 'what if the creation is taking over the creator',\n",
       " 'what jobs will robots take from humans in the future',\n",
       " 'will machine replace the human in the future of work',\n",
       " 'will ai replace us or work with us',\n",
       " 'man and machines together machines are more diligent than humans blackcoffe',\n",
       " 'in future or in upcoming years humans and machines are going to work together in every field of work',\n",
       " 'how neural networks can be applied in various areas in the future',\n",
       " 'how machine learning will affect your business',\n",
       " 'deep learning impact on areas of e learning',\n",
       " 'how to protect future data and its privacy blackcoffer',\n",
       " 'how machines ai automations and robo human are effective in finance and banking',\n",
       " 'ai human robotics machine future planet blackcoffer thinking jobs workplace',\n",
       " 'how ai will change the world blackcoffer',\n",
       " 'future of work how ai has entered the workplace',\n",
       " 'ai tool alexa google assistant finance banking tool future',\n",
       " 'ai healthcare revolution ml technology algorithm google analytics industrialrevolution',\n",
       " 'all you need to know about online marketing',\n",
       " 'evolution of advertising industry',\n",
       " 'how data analytics can help your business respond to the impact of covid 19',\n",
       " 'covid 19 environmental impact for the future',\n",
       " 'environmental impact of the covid 19 pandemic lesson for the future',\n",
       " 'how data analytics and ai are used to halt the covid 19 pandemic',\n",
       " 'difference between artificial intelligence machine learning statistics and data mining',\n",
       " 'how python became the first choice for data science',\n",
       " 'how google fit measure heart and respiratory rates using a phone',\n",
       " 'what is the future of mobile apps',\n",
       " 'impact of ai in health and medicine',\n",
       " 'telemedicine what patients like and dislike about it',\n",
       " 'how we forecast future technologies',\n",
       " 'can robots tackle late life loneliness',\n",
       " 'embedding care robots into society socio technical considerations',\n",
       " 'management challenges for future digitalization of healthcare services',\n",
       " 'are we any closer to preventing a nuclear holocaust',\n",
       " 'will technology eliminate the need for animal testing in drug development',\n",
       " 'will we ever understand the nature of consciousness',\n",
       " 'will we ever colonize outer space',\n",
       " 'what is the chance homo sapiens will survive for the next 500 years',\n",
       " 'why does your business need a chatbot',\n",
       " 'how you lead a project or a team without any technical expertise',\n",
       " 'can you be great leader without technical expertise',\n",
       " 'how does artificial intelligence affect the environment',\n",
       " 'how to overcome your fear of making mistakes 2',\n",
       " 'is perfection the greatest enemy of productivity',\n",
       " 'global financial crisis 2008 causes effects and its solution',\n",
       " 'gender diversity and equality in the tech industry',\n",
       " 'how to overcome your fear of making mistakes',\n",
       " 'how small business can survive the coronavirus crisis',\n",
       " 'impacts of covid 19 on vegetable vendors and food stalls',\n",
       " 'impacts of covid 19 on vegetable vendors',\n",
       " 'impact of covid 19 pandemic on tourism aviation industries',\n",
       " 'impact of covid 19 pandemic on sports events around the world',\n",
       " 'changing landscape and emerging trends in the indian it ites industry',\n",
       " 'online gaming adolescent online gaming effects demotivated depression musculoskeletal and psychosomatic symptoms',\n",
       " 'human rights outlook',\n",
       " 'how voice search makes your business a successful business',\n",
       " 'how the covid 19 crisis is redefining jobs and services',\n",
       " 'how to increase social media engagement for marketers',\n",
       " 'impacts of covid 19 on streets sides food stalls',\n",
       " 'coronavirus impact on energy markets 2',\n",
       " 'coronavirus impact on the hospitality industry 5',\n",
       " 'lessons from the past some key learnings relevant to the coronavirus crisis 4',\n",
       " 'estimating the impact of covid 19 on the world of work 2',\n",
       " 'estimating the impact of covid 19 on the world of work 3',\n",
       " 'travel and tourism outlook',\n",
       " 'gaming disorder and effects of gaming on health',\n",
       " 'what is the repercussion of the environment due to the covid 19 pandemic situation',\n",
       " 'what is the repercussion of the environment due to the covid 19 pandemic situation 2',\n",
       " 'impact of covid 19 pandemic on office space and co working industries',\n",
       " 'contribution of handicrafts visual arts literature in the indian economy',\n",
       " 'how covid 19 is impacting payment preferences',\n",
       " 'how will covid 19 affect the world of work 2']"
      ]
     },
     "execution_count": 7,
     "metadata": {},
     "output_type": "execute_result"
    }
   ],
   "source": [
    "def get_article_names(urls):\n",
    "    titles=[]\n",
    "    for i in range (len(urls)):\n",
    "        title=urls[i]\n",
    "        title_clean=title[title.index(\"m/\")+2:-1].replace('-',' ')\n",
    "        titles.append(title_clean)\n",
    "    return titles\n",
    "    #Assuming 'input' is your DataFrame containing a column named 'URL'\n",
    "urls=input[\"URL\"]\n",
    "# Call the function to extract article titles from the 'URL' column\n",
    "urlsTitleDF=get_article_names(urls)\n",
    "# Display the resulting list of article titles\n",
    "urlsTitleDF\n"
   ]
  },
  {
   "cell_type": "code",
   "execution_count": null,
   "id": "d470a2ce-5be6-484c-b97c-9ec5534a8b09",
   "metadata": {},
   "outputs": [],
   "source": [
    "corps=[]\n",
    "# Assuming 'urls' is a list of URLs\n",
    "for url in urls:\n",
    "    response=requests.get(url)\n",
    "    soup=BeautifulSoup(response.content,'html.parser')\n",
    "    for data in soup.find_all(class_=\"td-ss-main-content\"):\n",
    "        text=data.get_text()\n",
    "    lines=(line.strip() for line in text.splitlines())\n",
    "    chunks=(phrase.strip() for line in lines for phrase in line.split(\" \"))\n",
    "    text='\\n'.join(chunk for chunk in chunks if chunk) # Use separator=\"\\n\" to ensure each tag's text is separated by a newline\n",
    "    corps.append(text)"
   ]
  },
  {
   "cell_type": "code",
   "execution_count": null,
   "id": "48d21f12-69d4-4137-9665-8435e6565e85",
   "metadata": {},
   "outputs": [],
   "source": [
    "headers = {\n",
    "    'User-Agent': 'Mozilla/5.0 (Windows NT 10.0; Win64; x64) AppleWebKit/537.36 (KHTML, like Gecko) Chrome/66.0.3359.139 Safari/537.36',\n",
    "    'Accept-Encoding': '*',\n",
    "    'Connection': 'keep-alive'\n",
    "}\n",
    "response=requests.get('https://insights.blackcoffer.com/rising-it-cities-and-its-impact-on-the-economy-environment-infrastructure-and-city-life-by-the-year-2040-2/',headers=headers)\n",
    "soup=BeautifulSoup(response.content,'html.parser')\n",
    "for data in soup.find_all(class_=\"td-ss-main-content\"):\n",
    "    text=data.get_text()"
   ]
  },
  {
   "cell_type": "code",
   "execution_count": 8,
   "id": "f765f1b1-0190-49f8-ace3-b51b530a9bcd",
   "metadata": {},
   "outputs": [],
   "source": [
    "def tokenizer(text):\n",
    "    text=text.lower()\n",
    "    tokenizer=RegexpTokenizer(r'\\w+')\n",
    "    tokens=tokenizer.tokenize(text)\n",
    "    filtered_words=list(filter(lambda token:token not in total_stopwords,tokens))\n",
    "    return filtered_words"
   ]
  },
  {
   "cell_type": "code",
   "execution_count": 9,
   "id": "23f28590-f52f-4e9d-95ec-405c0a940271",
   "metadata": {},
   "outputs": [
    {
     "name": "stderr",
     "output_type": "stream",
     "text": [
      "[nltk_data] Downloading package punkt to C:\\Users\\anshul\n",
      "[nltk_data]     gupta\\AppData\\Roaming\\nltk_data...\n",
      "[nltk_data]   Package punkt is already up-to-date!\n",
      "[nltk_data] Downloading package wordnet to C:\\Users\\anshul\n",
      "[nltk_data]     gupta\\AppData\\Roaming\\nltk_data...\n",
      "[nltk_data]   Package wordnet is already up-to-date!\n"
     ]
    },
    {
     "data": {
      "text/plain": [
       "True"
      ]
     },
     "execution_count": 9,
     "metadata": {},
     "output_type": "execute_result"
    }
   ],
   "source": [
    "import nltk\n",
    "nltk.download('punkt')\n",
    "nltk.download('wordnet')"
   ]
  },
  {
   "cell_type": "code",
   "execution_count": 11,
   "id": "5338236c-df66-48a7-9b9b-dc89d51b3401",
   "metadata": {},
   "outputs": [],
   "source": [
    "def extract_zip(file_name):\n",
    "    string=open(file_name).read()\n",
    "    tokenize_words=nltk.word_tokenize(string)\n",
    "    return tokenize_words"
   ]
  },
  {
   "cell_type": "code",
   "execution_count": 12,
   "id": "443076de-8497-4dea-b733-b9399f671ea9",
   "metadata": {},
   "outputs": [],
   "source": [
    "stopwords_auditor=extract_zip(\"StopWords/StopWords_Auditor.txt\")\n",
    "stopwords_geographic=extract_zip(\"StopWords/StopWords_Geographic.txt\")\n",
    "stopwords_currencies=extract_zip(\"StopWords/StopWords_Currencies.txt\")\n",
    "stopwords_names=extract_zip(\"StopWords/StopWords_Names.txt\")\n",
    "stopwords_genriclong=extract_zip(\"StopWords/StopWords_GenericLong.txt\")\n",
    "stopwords_generic=extract_zip(\"StopWords/StopWords_Generic.txt\")\n",
    "stopwords_datesandnumbers=extract_zip(\"StopWords/StopWords_DatesandNumbers.txt\")"
   ]
  },
  {
   "cell_type": "code",
   "execution_count": 13,
   "id": "319cff6d-90f6-42f6-aa18-d5300959505e",
   "metadata": {},
   "outputs": [],
   "source": [
    "with open('StopWords/StopWords_Auditor.txt','r') as stop_words_auditor:\n",
    "    stopwords_auditor=stop_words_auditor.read().lower()\n",
    "    stopwordlist_auditor=stopwords_auditor.split('\\n')\n",
    "    stopwordlist_auditor[-1:]=[]"
   ]
  },
  {
   "cell_type": "code",
   "execution_count": 14,
   "id": "83306d0b-d646-4aa5-8670-f8f311a6aec7",
   "metadata": {},
   "outputs": [],
   "source": [
    "with open('StopWords/StopWords_Currencies.txt','r') as stop_words_currencies:\n",
    "    stopwords_currencies=stop_words_currencies.read().lower()\n",
    "    stopwordlist_currencies=stopwords_currencies.split('\\n')\n",
    "    stopwordlist_currencies[-1:]=[]\n"
   ]
  },
  {
   "cell_type": "code",
   "execution_count": 15,
   "id": "d13f819a-cd8f-4d2d-a8a2-18acdc1e0f73",
   "metadata": {},
   "outputs": [],
   "source": [
    "def stopwords_lower(file_path):\n",
    "    with open(file_path,'r') as stop_words_currencies:\n",
    "        stopwords_currencies=stop_words_currencies.read().lower()\n",
    "        stopwordlist_currencies=stopwords_currencies.split('\\n')\n",
    "        stopwordlist_currencies[-1:]=[]\n",
    "    return stopwordlist_currencies\n"
   ]
  },
  {
   "cell_type": "code",
   "execution_count": 16,
   "id": "21cb83f0-8959-4a60-bfca-3159ea334532",
   "metadata": {},
   "outputs": [],
   "source": [
    "stopwordlist_numbers=stopwords_lower('StopWords/StopWords_DatesandNumbers.txt')"
   ]
  },
  {
   "cell_type": "code",
   "execution_count": 17,
   "id": "ae77e71c-207f-4fa0-b5ea-625057d9fec7",
   "metadata": {},
   "outputs": [],
   "source": [
    "stopwordlist_generic=stopwords_lower('StopWords/StopWords_Generic.txt')"
   ]
  },
  {
   "cell_type": "code",
   "execution_count": 18,
   "id": "15642864-9d4c-415f-8715-ad044ac9ea58",
   "metadata": {},
   "outputs": [],
   "source": [
    "stopwordlist_genericlong=stopwords_lower('StopWords/StopWords_GenericLong.txt')"
   ]
  },
  {
   "cell_type": "code",
   "execution_count": 19,
   "id": "899dab52-6ae9-46d6-bd4e-aff82ef39b9e",
   "metadata": {},
   "outputs": [],
   "source": [
    "stopwordlist_geographic=stopwords_lower('StopWords/StopWords_Geographic.txt')"
   ]
  },
  {
   "cell_type": "code",
   "execution_count": 20,
   "id": "0257193b-b8ae-4d36-b3e5-f38f15366acf",
   "metadata": {},
   "outputs": [],
   "source": [
    "stopwordlist_name=stopwords_lower('StopWords/StopWords_Names.txt')"
   ]
  },
  {
   "cell_type": "code",
   "execution_count": 21,
   "id": "6ac0cbe3-1ef3-48d4-be43-2ef19321230d",
   "metadata": {},
   "outputs": [],
   "source": [
    "total_stopwords=stopwordlist_numbers+stopwordlist_generic+stopwordlist_genericlong+stopwordlist_geographic+stopwordlist_name"
   ]
  },
  {
   "cell_type": "code",
   "execution_count": 22,
   "id": "b5beb65b-0153-413a-b8e7-e2dec908b914",
   "metadata": {},
   "outputs": [],
   "source": [
    "with open('MasterDictionary/positive-words.txt') as positive_words_file:\n",
    "    positivewords_file=positive_words_file.read().lower()\n",
    "    positivewords_list=positivewords_file.split('\\n')\n",
    "    positivewords_list[-1:]=[]"
   ]
  },
  {
   "cell_type": "code",
   "execution_count": 23,
   "id": "53b0e695-e475-48b1-834f-8979a0b85bfd",
   "metadata": {},
   "outputs": [],
   "source": [
    "with open('MasterDictionary/negative-words.txt') as negative_words_file:\n",
    "    negativewords_file=negative_words_file.read().lower()\n",
    "    negativewords_list=negativewords_file.split('\\n')\n",
    "    negativewords_list[-1:]=[]"
   ]
  },
  {
   "cell_type": "code",
   "execution_count": 24,
   "id": "720388e2-19bf-4b04-9c53-599f53332908",
   "metadata": {},
   "outputs": [],
   "source": [
    "def tokenizer(text):\n",
    "    text = text.lower()\n",
    "    tokenizer = RegexpTokenizer(r'\\w+')\n",
    "    tokens = tokenizer.tokenize(text)\n",
    "    filtered_words = list(filter(lambda token: token not in total_stopwords, tokens))\n",
    "    return filtered_words"
   ]
  },
  {
   "cell_type": "code",
   "execution_count": 25,
   "id": "2edbfd0c-f322-43f1-9991-03087e6247e9",
   "metadata": {},
   "outputs": [],
   "source": [
    "def positive_score (text):\n",
    "  posword=0\n",
    "  tokenphrase = tokenizer(text)\n",
    "  for word in tokenphrase :\n",
    "    if word in positivewords_list:\n",
    "       posword+=1\n",
    "       retpos = posword\n",
    "  return retpos "
   ]
  },
  {
   "cell_type": "code",
   "execution_count": 26,
   "id": "1d54257b-532c-420a-8532-47c976fe3afb",
   "metadata": {},
   "outputs": [
    {
     "data": {
      "text/plain": [
       "7"
      ]
     },
     "execution_count": 26,
     "metadata": {},
     "output_type": "execute_result"
    }
   ],
   "source": [
    "positive_score(text)"
   ]
  },
  {
   "cell_type": "code",
   "execution_count": 27,
   "id": "725c6940-0ca2-4d3f-9e48-6edb815beb6b",
   "metadata": {},
   "outputs": [],
   "source": [
    "def negative_score (text):\n",
    "  negword=0\n",
    "  tokenphrase = tokenizer(text)\n",
    "  for word in tokenphrase :\n",
    "    if word in negativewords_list:\n",
    "       negword+=1\n",
    "  return negword "
   ]
  },
  {
   "cell_type": "code",
   "execution_count": 28,
   "id": "a1c5b942-587d-44e6-9991-00206b92ce56",
   "metadata": {},
   "outputs": [
    {
     "data": {
      "text/plain": [
       "3"
      ]
     },
     "execution_count": 28,
     "metadata": {},
     "output_type": "execute_result"
    }
   ],
   "source": [
    "negative_score(text)"
   ]
  },
  {
   "cell_type": "code",
   "execution_count": 30,
   "id": "56fe13b7-f668-4be5-a296-1e303cfd29a5",
   "metadata": {},
   "outputs": [],
   "source": [
    "def polarity_score (positive_score , negative_score) :\n",
    "  return (positive_score - negative_score) / ((positive_score + negative_score) + 0.000001)"
   ]
  },
  {
   "cell_type": "code",
   "execution_count": 31,
   "id": "454eabde",
   "metadata": {},
   "outputs": [
    {
     "data": {
      "text/plain": [
       "0.39999996000000404"
      ]
     },
     "execution_count": 31,
     "metadata": {},
     "output_type": "execute_result"
    }
   ],
   "source": [
    "polarity_score(positive_score(text),negative_score(text))"
   ]
  },
  {
   "cell_type": "code",
   "execution_count": 32,
   "id": "cba5c5a2-a576-4094-8a87-b24f4dbb0a09",
   "metadata": {},
   "outputs": [],
   "source": [
    "def total_word_count(text):\n",
    "    tokens = tokenizer(text)\n",
    "    return len(tokens)"
   ]
  },
  {
   "cell_type": "code",
   "execution_count": 33,
   "id": "d8b3b5ad",
   "metadata": {},
   "outputs": [
    {
     "data": {
      "text/plain": [
       "243"
      ]
     },
     "execution_count": 33,
     "metadata": {},
     "output_type": "execute_result"
    }
   ],
   "source": [
    "total_word_count(text)"
   ]
  },
  {
   "cell_type": "code",
   "execution_count": 34,
   "id": "fb32cb68-19b1-4a3c-a87d-c316a8abae27",
   "metadata": {},
   "outputs": [],
   "source": [
    "def AverageSentenceLenght (text):\n",
    "  Wordcount = len(tokenizer (text))\n",
    "  SentenceCount = len (sent_tokenize(text))\n",
    "  if SentenceCount > 0 : Average_Sentence_Lenght = Wordcount / SentenceCount\n",
    "\n",
    "  avg = Average_Sentence_Lenght\n",
    "\n",
    "  return round(avg)\n"
   ]
  },
  {
   "cell_type": "code",
   "execution_count": 35,
   "id": "22f5ce07",
   "metadata": {},
   "outputs": [
    {
     "data": {
      "text/plain": [
       "19"
      ]
     },
     "execution_count": 35,
     "metadata": {},
     "output_type": "execute_result"
    }
   ],
   "source": [
    "AverageSentenceLenght(text)"
   ]
  },
  {
   "cell_type": "code",
   "execution_count": 36,
   "id": "127998e3",
   "metadata": {},
   "outputs": [],
   "source": [
    "def subjectivity_score(positive_score, negative_score,total_word_count ):\n",
    "    score = (positive_score + negative_score)/ (total_word_count + 0.000001)\n",
    "    return score"
   ]
  },
  {
   "cell_type": "code",
   "execution_count": 37,
   "id": "c4cd1124",
   "metadata": {},
   "outputs": [
    {
     "data": {
      "text/plain": [
       "0.04115226320513472"
      ]
     },
     "execution_count": 37,
     "metadata": {},
     "output_type": "execute_result"
    }
   ],
   "source": [
    "subjectivity_score(positive_score(text), negative_score(text),total_word_count(text) )"
   ]
  },
  {
   "cell_type": "code",
   "execution_count": 39,
   "id": "9ed41145-08c2-48ac-be29-b522704db4e9",
   "metadata": {},
   "outputs": [],
   "source": [
    "def complex_word_count(text):\n",
    "    tokens = tokenizer(text)\n",
    "    complexWord = 0\n",
    "    \n",
    "    for word in tokens:\n",
    "        vowels=0\n",
    "        if word.endswith(('es','ed')):\n",
    "            pass\n",
    "        else:\n",
    "            for w in word:\n",
    "                if(w=='a' or w=='e' or w=='i' or w=='o' or w=='u'):\n",
    "                    vowels += 1\n",
    "            if(vowels > 2):\n",
    "                complexWord += 1\n",
    "    return complexWord\n"
   ]
  },
  {
   "cell_type": "code",
   "execution_count": 40,
   "id": "6834944a",
   "metadata": {},
   "outputs": [
    {
     "data": {
      "text/plain": [
       "107"
      ]
     },
     "execution_count": 40,
     "metadata": {},
     "output_type": "execute_result"
    }
   ],
   "source": [
    "complex_word_count(text)"
   ]
  },
  {
   "cell_type": "code",
   "execution_count": 41,
   "id": "54cf84c6-d87c-4ea7-a992-3d5573f6a0fd",
   "metadata": {},
   "outputs": [],
   "source": [
    "def percentage_complex_word(text):\n",
    "    tokens = tokenizer(text)\n",
    "    complexWord = 0\n",
    "    complex_word_percentage = 0\n",
    "    \n",
    "    for word in tokens:\n",
    "        vowels=0\n",
    "        if word.endswith(('es','ed')):\n",
    "            pass\n",
    "        else:\n",
    "            for w in word:\n",
    "                if(w=='a' or w=='e' or w=='i' or w=='o' or w=='u'):\n",
    "                    vowels += 1\n",
    "            if(vowels > 2):\n",
    "                complexWord += 1\n",
    "    if len(tokens) != 0:\n",
    "        complex_word_percentage = complexWord/len(tokens)\n",
    "    \n",
    "    return complex_word_percentage"
   ]
  },
  {
   "cell_type": "code",
   "execution_count": 42,
   "id": "d5ca1481",
   "metadata": {},
   "outputs": [
    {
     "data": {
      "text/plain": [
       "0.4403292181069959"
      ]
     },
     "execution_count": 42,
     "metadata": {},
     "output_type": "execute_result"
    }
   ],
   "source": [
    "percentage_complex_word(text)"
   ]
  },
  {
   "cell_type": "code",
   "execution_count": 43,
   "id": "ce93c2c0-6171-4d29-bef3-fcf85348606f",
   "metadata": {},
   "outputs": [],
   "source": [
    "def fog_index(AverageSentenceLenght, percentage_complex_word):\n",
    "    fogIndex = 0.4 * (AverageSentenceLenght + percentage_complex_word)\n",
    "    return fogIndex"
   ]
  },
  {
   "cell_type": "code",
   "execution_count": 44,
   "id": "b0e074a0",
   "metadata": {},
   "outputs": [
    {
     "data": {
      "text/plain": [
       "7.776131687242799"
      ]
     },
     "execution_count": 44,
     "metadata": {},
     "output_type": "execute_result"
    }
   ],
   "source": [
    "fog_index(AverageSentenceLenght(text), percentage_complex_word(text))"
   ]
  },
  {
   "cell_type": "code",
   "execution_count": 45,
   "id": "3629b6e9",
   "metadata": {},
   "outputs": [],
   "source": [
    "def avg_words_per_sentence(text):\n",
    "    sentences = nltk.sent_tokenize(text)  # Tokenize text into sentences\n",
    "    total_words = 0\n",
    "    for sentence in sentences:\n",
    "        words = nltk.word_tokenize(sentence)  # Tokenize sentence into words\n",
    "        total_words += len(words)\n",
    "    if len(sentences) > 0:\n",
    "        avg_words = total_words / len(sentences)\n",
    "    else:\n",
    "        avg_words = 0\n",
    "    return avg_words"
   ]
  },
  {
   "cell_type": "code",
   "execution_count": 46,
   "id": "50d15261",
   "metadata": {},
   "outputs": [
    {
     "data": {
      "text/plain": [
       "37.07692307692308"
      ]
     },
     "execution_count": 46,
     "metadata": {},
     "output_type": "execute_result"
    }
   ],
   "source": [
    "avg_words_per_sentence(text)"
   ]
  },
  {
   "cell_type": "code",
   "execution_count": 47,
   "id": "61e823dd",
   "metadata": {},
   "outputs": [],
   "source": [
    "def avg_syllables_per_word(text):\n",
    "    words = nltk.word_tokenize(text)\n",
    "    total_syllables = sum(count_syllables(word) for word in words)\n",
    "    if len(words) > 0:\n",
    "        avg_syllables = total_syllables / len(words)\n",
    "    else:\n",
    "        avg_syllables = 0\n",
    "    return avg_syllables"
   ]
  },
  {
   "cell_type": "code",
   "execution_count": 48,
   "id": "091fd825",
   "metadata": {},
   "outputs": [],
   "source": [
    "def count_syllables(word):\n",
    "  \n",
    "    vowels = \"aeiouAEIOU\"\n",
    "    count = 0\n",
    "    prev_char_was_vowel = False\n",
    "    for char in word:\n",
    "        if char in vowels:\n",
    "            \n",
    "            if not prev_char_was_vowel:\n",
    "                \n",
    "                count += 1\n",
    "            prev_char_was_vowel = True\n",
    "        else:\n",
    "            prev_char_was_vowel = False\n",
    "    \n",
    "    if word.endswith('e') and count > 1:\n",
    "        count -= 1\n",
    "    return count\n",
    "\n",
    "def avg_syllables_per_word(text):\n",
    "   \n",
    "    words = text.split()\n",
    "    total_syllables = sum(count_syllables(word) for word in words)\n",
    "    if len(words) > 0:\n",
    "        avg_syllables = total_syllables / len(words)\n",
    "    else:\n",
    "        avg_syllables = 0\n",
    "    return avg_syllables"
   ]
  },
  {
   "cell_type": "code",
   "execution_count": 49,
   "id": "b2a8c611",
   "metadata": {},
   "outputs": [
    {
     "data": {
      "text/plain": [
       "1.8046511627906976"
      ]
     },
     "execution_count": 49,
     "metadata": {},
     "output_type": "execute_result"
    }
   ],
   "source": [
    "avg_syllables_per_word(text)"
   ]
  },
  {
   "cell_type": "code",
   "execution_count": 50,
   "id": "df1061fd",
   "metadata": {},
   "outputs": [],
   "source": [
    "def count_personal_pronouns(text):\n",
    "  \n",
    "    personal_pronouns = ['I', 'me', 'my', 'mine', 'myself',\n",
    "                         'you', 'your', 'yours', 'yourself',\n",
    "                         'he', 'him', 'his', 'himself',\n",
    "                         'she', 'her', 'hers', 'herself',\n",
    "                         'it', 'its', 'itself',\n",
    "                         'we', 'us', 'our', 'ours', 'ourselves',\n",
    "                         'they', 'them', 'their', 'theirs', 'themselves']\n",
    "    \n",
    "    word_list = text.split()\n",
    "    pronoun_count = {pronoun: 0 for pronoun in personal_pronouns}\n",
    "    \n",
    "    for word in word_list:\n",
    "        if word.lower() in personal_pronouns:\n",
    "            pronoun_count[word.lower()] += 1\n",
    "    \n",
    "    return pronoun_count"
   ]
  },
  {
   "cell_type": "code",
   "execution_count": 51,
   "id": "e588f609",
   "metadata": {},
   "outputs": [
    {
     "data": {
      "text/plain": [
       "30"
      ]
     },
     "execution_count": 51,
     "metadata": {},
     "output_type": "execute_result"
    }
   ],
   "source": [
    "len(count_personal_pronouns(text))"
   ]
  },
  {
   "cell_type": "code",
   "execution_count": 52,
   "id": "fab66e45",
   "metadata": {},
   "outputs": [],
   "source": [
    "def avg_word_length(text):\n",
    "   \n",
    "    words = text.split()  # Tokenize text into words\n",
    "    total_length = sum(len(word) for word in words)  # Calculate total length of all words\n",
    "    if len(words) > 0:\n",
    "        avg_length = total_length / len(words)  # Calculate average word length\n",
    "    else:\n",
    "        avg_length = 0\n",
    "    return avg_length"
   ]
  },
  {
   "cell_type": "code",
   "execution_count": 53,
   "id": "69f1e874",
   "metadata": {},
   "outputs": [
    {
     "data": {
      "text/plain": [
       "5.874418604651162"
      ]
     },
     "execution_count": 53,
     "metadata": {},
     "output_type": "execute_result"
    }
   ],
   "source": [
    "avg_word_length(text)"
   ]
  },
  {
   "cell_type": "code",
   "execution_count": 58,
   "id": "da1cc106-a108-4c40-969b-dcfca25ba705",
   "metadata": {},
   "outputs": [],
   "source": [
    "df = pd.DataFrame({'title':urlsTitleDF,'corps': corps})\n",
    "df[\"total word count\"] = df[\"corps\"] . apply (total_word_count)\n",
    "#df[\"percentage_complex_word\"] = df[\"corps\"] . apply (percentage_complex_word)\n",
    "#df[\"complex_word_count\"] = df[\"corps\"] . apply (complex_word_count)\n",
    "#df[\"AverageSentenceLenght\"] = df[\"corps\"] . apply (AverageSentenceLenght)\n",
    "df[\"positive_score\"] = df[\"corps\"] . apply (positive_score)\n",
    "df[\"negative_score\"] = df[\"corps\"] . apply (negative_score)\n",
    "df[\"polarity_score\"] = np.vectorize(polarity_score)(df['positive_score'],df['negative_score'])\n",
    "df[\"subjectivity_score\"]=np.vectorize(subjectivity_score)(df['positive_score'],df['negative_score'],df['total word count'])\n",
    "df[\"AverageSentenceLenght\"]=df[\"corps\"]. apply (AverageSentenceLenght)\n",
    "df[\"percentage_complex_word\"] = df[\"corps\"] . apply (percentage_complex_word)\n",
    "df[\"Fog Index\"]=np.vectorize(fog_index)(df[\"AverageSentenceLenght\"],df[\"percentage_complex_word\"])\n",
    "df[\"avg_words_per_sentence\"]=df[\"corps\"] .apply (avg_words_per_sentence)\n"
   ]
  },
  {
   "cell_type": "code",
   "execution_count": 60,
   "id": "cf086793-c149-44dc-9470-631a549701fa",
   "metadata": {},
   "outputs": [
    {
     "data": {
      "text/html": [
       "<div>\n",
       "<style scoped>\n",
       "    .dataframe tbody tr th:only-of-type {\n",
       "        vertical-align: middle;\n",
       "    }\n",
       "\n",
       "    .dataframe tbody tr th {\n",
       "        vertical-align: top;\n",
       "    }\n",
       "\n",
       "    .dataframe thead th {\n",
       "        text-align: right;\n",
       "    }\n",
       "</style>\n",
       "<table border=\"1\" class=\"dataframe\">\n",
       "  <thead>\n",
       "    <tr style=\"text-align: right;\">\n",
       "      <th></th>\n",
       "      <th>title</th>\n",
       "      <th>corps</th>\n",
       "      <th>total word count</th>\n",
       "      <th>positive_score</th>\n",
       "      <th>negative_score</th>\n",
       "      <th>polarity_score</th>\n",
       "      <th>subjectivity_score</th>\n",
       "      <th>AverageSentenceLenght</th>\n",
       "      <th>percentage_complex_word</th>\n",
       "      <th>Fog Index</th>\n",
       "    </tr>\n",
       "  </thead>\n",
       "  <tbody>\n",
       "    <tr>\n",
       "      <th>45</th>\n",
       "      <td>all you need to know about online marketing</td>\n",
       "      <td>Ever\\nwondered\\nhow\\nyou\\nget\\nnotified\\nof\\nt...</td>\n",
       "      <td>490</td>\n",
       "      <td>26</td>\n",
       "      <td>0</td>\n",
       "      <td>1.000000</td>\n",
       "      <td>0.053061</td>\n",
       "      <td>9</td>\n",
       "      <td>0.516327</td>\n",
       "      <td>3.806531</td>\n",
       "    </tr>\n",
       "    <tr>\n",
       "      <th>1</th>\n",
       "      <td>rising it cities and their impact on the econo...</td>\n",
       "      <td>Throughout\\nhistory,\\nfrom\\nthe\\nindustrial\\nr...</td>\n",
       "      <td>745</td>\n",
       "      <td>52</td>\n",
       "      <td>31</td>\n",
       "      <td>0.253012</td>\n",
       "      <td>0.111409</td>\n",
       "      <td>9</td>\n",
       "      <td>0.464430</td>\n",
       "      <td>3.785772</td>\n",
       "    </tr>\n",
       "    <tr>\n",
       "      <th>43</th>\n",
       "      <td>ai tool alexa google assistant finance banking...</td>\n",
       "      <td>Through\\nAI\\ntools\\nlike\\nnatural\\nlanguage\\np...</td>\n",
       "      <td>288</td>\n",
       "      <td>26</td>\n",
       "      <td>0</td>\n",
       "      <td>1.000000</td>\n",
       "      <td>0.090278</td>\n",
       "      <td>13</td>\n",
       "      <td>0.527778</td>\n",
       "      <td>5.411111</td>\n",
       "    </tr>\n",
       "    <tr>\n",
       "      <th>99</th>\n",
       "      <td>how will covid 19 affect the world of work 2</td>\n",
       "      <td>Handicrafts\\nis\\nan\\nart\\nof\\nmaking\\ncrafts\\n...</td>\n",
       "      <td>243</td>\n",
       "      <td>7</td>\n",
       "      <td>3</td>\n",
       "      <td>0.400000</td>\n",
       "      <td>0.041152</td>\n",
       "      <td>19</td>\n",
       "      <td>0.440329</td>\n",
       "      <td>7.776132</td>\n",
       "    </tr>\n",
       "    <tr>\n",
       "      <th>81</th>\n",
       "      <td>online gaming adolescent online gaming effects...</td>\n",
       "      <td>Introduction\\nA\\nvideo\\ngame\\nis\\nany\\nsoftwar...</td>\n",
       "      <td>858</td>\n",
       "      <td>30</td>\n",
       "      <td>67</td>\n",
       "      <td>-0.381443</td>\n",
       "      <td>0.113054</td>\n",
       "      <td>14</td>\n",
       "      <td>0.473193</td>\n",
       "      <td>5.789277</td>\n",
       "    </tr>\n",
       "    <tr>\n",
       "      <th>11</th>\n",
       "      <td>rise of telemedicine and its impact on livelih...</td>\n",
       "      <td>Telemedicine,\\nthe\\nuse\\nof\\ntechnology\\nto\\nd...</td>\n",
       "      <td>869</td>\n",
       "      <td>81</td>\n",
       "      <td>23</td>\n",
       "      <td>0.557692</td>\n",
       "      <td>0.119678</td>\n",
       "      <td>11</td>\n",
       "      <td>0.592635</td>\n",
       "      <td>4.637054</td>\n",
       "    </tr>\n",
       "    <tr>\n",
       "      <th>41</th>\n",
       "      <td>how ai will change the world blackcoffer</td>\n",
       "      <td>Abstract\\nThe\\nway\\nwork\\nis\\nbeing\\ndone\\nnow...</td>\n",
       "      <td>703</td>\n",
       "      <td>61</td>\n",
       "      <td>24</td>\n",
       "      <td>0.435294</td>\n",
       "      <td>0.120910</td>\n",
       "      <td>11</td>\n",
       "      <td>0.455192</td>\n",
       "      <td>4.582077</td>\n",
       "    </tr>\n",
       "    <tr>\n",
       "      <th>78</th>\n",
       "      <td>impact of covid 19 pandemic on tourism aviatio...</td>\n",
       "      <td>As\\nthe\\nCoronavirus\\npandemic\\nunfolds,\\nmost...</td>\n",
       "      <td>817</td>\n",
       "      <td>33</td>\n",
       "      <td>52</td>\n",
       "      <td>-0.223529</td>\n",
       "      <td>0.104039</td>\n",
       "      <td>11</td>\n",
       "      <td>0.401469</td>\n",
       "      <td>4.560588</td>\n",
       "    </tr>\n",
       "    <tr>\n",
       "      <th>20</th>\n",
       "      <td>negative effects of marketing on society</td>\n",
       "      <td>“Society\\ncan\\nexist\\nwithout\\nMarketing,\\nbut...</td>\n",
       "      <td>554</td>\n",
       "      <td>22</td>\n",
       "      <td>47</td>\n",
       "      <td>-0.362319</td>\n",
       "      <td>0.124549</td>\n",
       "      <td>11</td>\n",
       "      <td>0.539711</td>\n",
       "      <td>4.615884</td>\n",
       "    </tr>\n",
       "    <tr>\n",
       "      <th>89</th>\n",
       "      <td>lessons from the past some key learnings relev...</td>\n",
       "      <td>As\\na\\nrace,\\nwe\\nare\\nnot\\nready\\nfor\\nany\\nk...</td>\n",
       "      <td>535</td>\n",
       "      <td>35</td>\n",
       "      <td>47</td>\n",
       "      <td>-0.146341</td>\n",
       "      <td>0.153271</td>\n",
       "      <td>7</td>\n",
       "      <td>0.429907</td>\n",
       "      <td>2.971963</td>\n",
       "    </tr>\n",
       "  </tbody>\n",
       "</table>\n",
       "</div>"
      ],
      "text/plain": [
       "                                                title  \\\n",
       "45        all you need to know about online marketing   \n",
       "1   rising it cities and their impact on the econo...   \n",
       "43  ai tool alexa google assistant finance banking...   \n",
       "99       how will covid 19 affect the world of work 2   \n",
       "81  online gaming adolescent online gaming effects...   \n",
       "11  rise of telemedicine and its impact on livelih...   \n",
       "41           how ai will change the world blackcoffer   \n",
       "78  impact of covid 19 pandemic on tourism aviatio...   \n",
       "20           negative effects of marketing on society   \n",
       "89  lessons from the past some key learnings relev...   \n",
       "\n",
       "                                                corps  total word count  \\\n",
       "45  Ever\\nwondered\\nhow\\nyou\\nget\\nnotified\\nof\\nt...               490   \n",
       "1   Throughout\\nhistory,\\nfrom\\nthe\\nindustrial\\nr...               745   \n",
       "43  Through\\nAI\\ntools\\nlike\\nnatural\\nlanguage\\np...               288   \n",
       "99  Handicrafts\\nis\\nan\\nart\\nof\\nmaking\\ncrafts\\n...               243   \n",
       "81  Introduction\\nA\\nvideo\\ngame\\nis\\nany\\nsoftwar...               858   \n",
       "11  Telemedicine,\\nthe\\nuse\\nof\\ntechnology\\nto\\nd...               869   \n",
       "41  Abstract\\nThe\\nway\\nwork\\nis\\nbeing\\ndone\\nnow...               703   \n",
       "78  As\\nthe\\nCoronavirus\\npandemic\\nunfolds,\\nmost...               817   \n",
       "20  “Society\\ncan\\nexist\\nwithout\\nMarketing,\\nbut...               554   \n",
       "89  As\\na\\nrace,\\nwe\\nare\\nnot\\nready\\nfor\\nany\\nk...               535   \n",
       "\n",
       "    positive_score  negative_score  polarity_score  subjectivity_score  \\\n",
       "45              26               0        1.000000            0.053061   \n",
       "1               52              31        0.253012            0.111409   \n",
       "43              26               0        1.000000            0.090278   \n",
       "99               7               3        0.400000            0.041152   \n",
       "81              30              67       -0.381443            0.113054   \n",
       "11              81              23        0.557692            0.119678   \n",
       "41              61              24        0.435294            0.120910   \n",
       "78              33              52       -0.223529            0.104039   \n",
       "20              22              47       -0.362319            0.124549   \n",
       "89              35              47       -0.146341            0.153271   \n",
       "\n",
       "    AverageSentenceLenght  percentage_complex_word  Fog Index  \n",
       "45                      9                 0.516327   3.806531  \n",
       "1                       9                 0.464430   3.785772  \n",
       "43                     13                 0.527778   5.411111  \n",
       "99                     19                 0.440329   7.776132  \n",
       "81                     14                 0.473193   5.789277  \n",
       "11                     11                 0.592635   4.637054  \n",
       "41                     11                 0.455192   4.582077  \n",
       "78                     11                 0.401469   4.560588  \n",
       "20                     11                 0.539711   4.615884  \n",
       "89                      7                 0.429907   2.971963  "
      ]
     },
     "execution_count": 60,
     "metadata": {},
     "output_type": "execute_result"
    }
   ],
   "source": [
    "df.sample(10)"
   ]
  },
  {
   "cell_type": "code",
   "execution_count": null,
   "id": "3cb5aae5-6c9a-48cc-b5a0-a852092c52f1",
   "metadata": {},
   "outputs": [],
   "source": []
  },
  {
   "cell_type": "code",
   "execution_count": null,
   "id": "03318632-50f4-4c06-8858-7938dcfc59bc",
   "metadata": {},
   "outputs": [],
   "source": []
  },
  {
   "cell_type": "code",
   "execution_count": null,
   "id": "ef3324bf-33e4-4df1-85d0-2f30d5e9999c",
   "metadata": {},
   "outputs": [],
   "source": []
  },
  {
   "cell_type": "code",
   "execution_count": null,
   "id": "a8269a3a-e87b-48c5-a76d-ac9500f67db2",
   "metadata": {},
   "outputs": [],
   "source": []
  },
  {
   "cell_type": "code",
   "execution_count": null,
   "id": "4eb2ad08-4247-4fa6-a69c-fe0b99f47d9b",
   "metadata": {},
   "outputs": [],
   "source": []
  },
  {
   "cell_type": "code",
   "execution_count": null,
   "id": "98745bce-d130-4eaf-9d9f-af263d1770a8",
   "metadata": {},
   "outputs": [],
   "source": []
  },
  {
   "cell_type": "code",
   "execution_count": null,
   "id": "622a7e1b-bd92-4a11-b3c1-3aba7dcf4c83",
   "metadata": {},
   "outputs": [],
   "source": []
  },
  {
   "cell_type": "code",
   "execution_count": null,
   "id": "a936b4a1-e2f9-478a-baca-ad82bd78fdfc",
   "metadata": {},
   "outputs": [],
   "source": []
  },
  {
   "cell_type": "code",
   "execution_count": null,
   "id": "a0a023b5-dd19-4dc6-944d-d9ecd5cd7073",
   "metadata": {},
   "outputs": [],
   "source": []
  },
  {
   "cell_type": "code",
   "execution_count": null,
   "id": "a906850a-c00b-4153-9f49-f3953e8a2eda",
   "metadata": {},
   "outputs": [],
   "source": []
  },
  {
   "cell_type": "code",
   "execution_count": null,
   "id": "5b8c9375-a13c-495c-9f8f-72c0f8f6d6b6",
   "metadata": {},
   "outputs": [],
   "source": []
  },
  {
   "cell_type": "code",
   "execution_count": null,
   "id": "e21b144d-dfcd-4b40-877b-ea5b98651622",
   "metadata": {},
   "outputs": [],
   "source": []
  },
  {
   "cell_type": "code",
   "execution_count": null,
   "id": "433d3838-2880-4f72-b47d-79850a5eba98",
   "metadata": {},
   "outputs": [],
   "source": []
  },
  {
   "cell_type": "code",
   "execution_count": null,
   "id": "d653b698-658e-4035-9d5a-6aa6e1cf8489",
   "metadata": {},
   "outputs": [],
   "source": []
  },
  {
   "cell_type": "code",
   "execution_count": null,
   "id": "5a406a89-6fe9-40e2-ada2-5034510aa12f",
   "metadata": {},
   "outputs": [],
   "source": []
  },
  {
   "cell_type": "code",
   "execution_count": null,
   "id": "b95c1313-0873-4fc4-bef6-028f1110462c",
   "metadata": {},
   "outputs": [],
   "source": []
  },
  {
   "cell_type": "code",
   "execution_count": null,
   "id": "6bbbd861-9edc-4051-9a6b-9278e5ecb956",
   "metadata": {},
   "outputs": [],
   "source": []
  },
  {
   "cell_type": "code",
   "execution_count": null,
   "id": "30db4e3a-644f-498c-83fc-4304d43b75c9",
   "metadata": {},
   "outputs": [],
   "source": []
  },
  {
   "cell_type": "code",
   "execution_count": null,
   "id": "28ceeaf2-2285-4741-bc21-dcf3b7a41142",
   "metadata": {},
   "outputs": [],
   "source": []
  },
  {
   "cell_type": "code",
   "execution_count": null,
   "id": "60d6f85f-d971-4b16-84ee-4bca6fa62cc6",
   "metadata": {},
   "outputs": [],
   "source": []
  },
  {
   "cell_type": "code",
   "execution_count": null,
   "id": "f35677f2-443f-4397-b78c-6796a4f29ca9",
   "metadata": {},
   "outputs": [],
   "source": []
  },
  {
   "cell_type": "code",
   "execution_count": null,
   "id": "e08a53ad-f848-4927-b5fe-82c86d792e44",
   "metadata": {},
   "outputs": [],
   "source": []
  },
  {
   "cell_type": "code",
   "execution_count": null,
   "id": "6e65950f-7b7a-4781-af1c-d090c9dae6ce",
   "metadata": {},
   "outputs": [],
   "source": []
  },
  {
   "cell_type": "code",
   "execution_count": null,
   "id": "3e230002-52e7-4067-8850-b6528b304a6f",
   "metadata": {},
   "outputs": [],
   "source": []
  },
  {
   "cell_type": "code",
   "execution_count": null,
   "id": "b341ff19-7713-4805-a8ad-07e870759d38",
   "metadata": {},
   "outputs": [],
   "source": []
  },
  {
   "cell_type": "code",
   "execution_count": null,
   "id": "eefc3f14-8553-4cbe-a700-9b52e6fcf36e",
   "metadata": {},
   "outputs": [],
   "source": []
  },
  {
   "cell_type": "code",
   "execution_count": null,
   "id": "0a1cc484-f7f8-40b1-8627-982e58c5c154",
   "metadata": {},
   "outputs": [],
   "source": []
  },
  {
   "cell_type": "code",
   "execution_count": null,
   "id": "38d3580e-6c51-4c6b-8479-29aedc681b73",
   "metadata": {},
   "outputs": [],
   "source": []
  },
  {
   "cell_type": "code",
   "execution_count": null,
   "id": "0b7878c2-142d-403a-8679-eaff1cf87fe8",
   "metadata": {},
   "outputs": [],
   "source": []
  },
  {
   "cell_type": "code",
   "execution_count": null,
   "id": "7745918a-4033-464e-92b2-089836660362",
   "metadata": {},
   "outputs": [],
   "source": []
  }
 ],
 "metadata": {
  "kernelspec": {
   "display_name": "Python 3 (ipykernel)",
   "language": "python",
   "name": "python3"
  },
  "language_info": {
   "codemirror_mode": {
    "name": "ipython",
    "version": 3
   },
   "file_extension": ".py",
   "mimetype": "text/x-python",
   "name": "python",
   "nbconvert_exporter": "python",
   "pygments_lexer": "ipython3",
   "version": "3.11.7"
  }
 },
 "nbformat": 4,
 "nbformat_minor": 5
}
