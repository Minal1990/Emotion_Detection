{
 "cells": [
  {
   "cell_type": "code",
   "execution_count": 1,
   "id": "be9f6396-0e37-4d6b-8a4e-a85d8d924cbe",
   "metadata": {},
   "outputs": [
    {
     "name": "stdout",
     "output_type": "stream",
     "text": [
      "I will go by train\n",
      "Happy Journey\n"
     ]
    }
   ],
   "source": [
    "distance=150\n",
    "if distance<100:\n",
    "    print(\"I will go by car\")\n",
    "if distance >=100 and distance<=500:\n",
    "    print(\"I will go by train\")\n",
    "if distance>500:\n",
    "    print(\"I will go by airplane\")\n",
    "print(\"Happy Journey\")"
   ]
  },
  {
   "cell_type": "code",
   "execution_count": 3,
   "id": "8e14260a-6781-48f2-90fb-99efc4aff94a",
   "metadata": {},
   "outputs": [
    {
     "name": "stdout",
     "output_type": "stream",
     "text": [
      "more than 10\n",
      "less than 100\n",
      "finish\n"
     ]
    }
   ],
   "source": [
    "x=90\n",
    "if x>10:\n",
    "    print(\"more than 10\")\n",
    "if x<100:\n",
    "    print(\"less than 100\")\n",
    "print(\"finish\")"
   ]
  },
  {
   "cell_type": "code",
   "execution_count": 4,
   "id": "2bf162a3-1a1b-4541-9d2e-a1fac87d759f",
   "metadata": {},
   "outputs": [
    {
     "name": "stdout",
     "output_type": "stream",
     "text": [
      "x is positive\n"
     ]
    }
   ],
   "source": [
    "x=10\n",
    "if x>0:\n",
    "    print(\"x is positive\")\n",
    "if x<0:\n",
    "    print(\"x is negative\")"
   ]
  },
  {
   "cell_type": "code",
   "execution_count": 5,
   "id": "60b1c43f-66a2-4427-b18d-b5dd8ac88314",
   "metadata": {},
   "outputs": [
    {
     "name": "stdout",
     "output_type": "stream",
     "text": [
      "x is positive\n"
     ]
    }
   ],
   "source": [
    "x=10\n",
    "if x>0:\n",
    "    print(\"x is positive\")\n",
    "else:\n",
    "    print(\"x is negative\")"
   ]
  },
  {
   "cell_type": "code",
   "execution_count": 6,
   "id": "9ce1bf5a-5ee8-497a-9988-3da16d5c149c",
   "metadata": {},
   "outputs": [
    {
     "name": "stdout",
     "output_type": "stream",
     "text": [
      " x is greater than y\n",
      " x is positive\n"
     ]
    }
   ],
   "source": [
    "x=10\n",
    "y=5\n",
    "\n",
    "if x>y:\n",
    "    print(\" x is greater than y\")\n",
    "    if x>0:\n",
    "        print(\" x is positive\")\n",
    "    else:\n",
    "        print(\"x is negative\")\n",
    "else:\n",
    "    print(\"y is greater tahn x\")"
   ]
  },
  {
   "cell_type": "code",
   "execution_count": 8,
   "id": "312d19db-5e40-4ea1-bded-6e95305e1616",
   "metadata": {},
   "outputs": [
    {
     "name": "stdout",
     "output_type": "stream",
     "text": [
      "x and y are equal\n"
     ]
    }
   ],
   "source": [
    "x=5\n",
    "y=5\n",
    "\n",
    "if x>y:\n",
    "    print(\"x is greater than y\")\n",
    "else:\n",
    "    if x<y:\n",
    "        print(\" x is less than y\")\n",
    "    else:\n",
    "        print(\"x and y are equal\")\n",
    "\n",
    "    \n",
    "    "
   ]
  },
  {
   "cell_type": "code",
   "execution_count": 12,
   "id": "9bd6c686-8930-4a3c-be86-c6538e7d21ca",
   "metadata": {},
   "outputs": [
    {
     "name": "stdout",
     "output_type": "stream",
     "text": [
      "I will go by train\n",
      "Happy Joourney\n"
     ]
    }
   ],
   "source": [
    "distance=150\n",
    "if distance<100:\n",
    "    print(\"I will go by car\")\n",
    "elif distance>=100 and distance<=500:\n",
    "    print(\"I will go by train\")\n",
    "else:\n",
    "    print(\"I will go by airplane\")\n",
    "print(\"Happy Joourney\")"
   ]
  },
  {
   "cell_type": "code",
   "execution_count": 17,
   "id": "2ff2c670-0bda-4d8a-89e8-5d81ff8bb1fa",
   "metadata": {},
   "outputs": [
    {
     "name": "stdout",
     "output_type": "stream",
     "text": [
      "greater than 3\n"
     ]
    }
   ],
   "source": [
    "x=8\n",
    "if x<3:\n",
    "    print(\"less than 3\")\n",
    "elif x>=3:\n",
    "    print(\"greater than 3\")\n",
    "else:\n",
    "    print(\"Byee\")"
   ]
  },
  {
   "cell_type": "code",
   "execution_count": 20,
   "id": "7f012716-5b14-4af5-aba0-320f5ddf61cb",
   "metadata": {},
   "outputs": [
    {
     "name": "stdout",
     "output_type": "stream",
     "text": [
      "less than 30\n"
     ]
    }
   ],
   "source": [
    "x=19\n",
    "if x<3:\n",
    "    print(\"less than 3\")\n",
    "elif x<30:\n",
    "    print(\"less than 30\")\n",
    "elif x<20:\n",
    "    print(\"less than 20\")\n",
    "else:\n",
    "    print(\"Nothing\")"
   ]
  },
  {
   "cell_type": "code",
   "execution_count": null,
   "id": "837d52a7-ac4a-4422-8914-d5626fdaf61f",
   "metadata": {},
   "outputs": [],
   "source": []
  }
 ],
 "metadata": {
  "kernelspec": {
   "display_name": "Python 3 (ipykernel)",
   "language": "python",
   "name": "python3"
  },
  "language_info": {
   "codemirror_mode": {
    "name": "ipython",
    "version": 3
   },
   "file_extension": ".py",
   "mimetype": "text/x-python",
   "name": "python",
   "nbconvert_exporter": "python",
   "pygments_lexer": "ipython3",
   "version": "3.11.7"
  }
 },
 "nbformat": 4,
 "nbformat_minor": 5
}
